{
  "nbformat": 4,
  "nbformat_minor": 0,
  "metadata": {
    "colab": {
      "name": "Copia de Untitled8.ipynb",
      "provenance": [],
      "collapsed_sections": [],
      "include_colab_link": true
    },
    "kernelspec": {
      "name": "python3",
      "display_name": "Python 3"
    },
    "language_info": {
      "name": "python"
    }
  },
  "cells": [
    {
      "cell_type": "markdown",
      "metadata": {
        "id": "view-in-github",
        "colab_type": "text"
      },
      "source": [
        "<a href=\"https://colab.research.google.com/github/MatGam3r/Proyecto-Final/blob/main/Copia_de_Untitled8.ipynb\" target=\"_parent\"><img src=\"https://colab.research.google.com/assets/colab-badge.svg\" alt=\"Open In Colab\"/></a>"
      ]
    },
    {
      "cell_type": "markdown",
      "source": [
        "import numpy as np\n",
        "import matplotlib.pyplot as plt\n",
        "import pandas as pd\n",
        "from sklearn.linear_model import LinearRegression\n",
        "processDf = pd.read_excel('Datos.csv')\n",
        "processDf.head()\n"
      ],
      "metadata": {
        "id": "pu0WUCuw1gqe"
      }
    },
    {
      "cell_type": "code",
      "source": [
        "import numpy as np\n",
        "import matplotlib.pyplot as plt\n",
        "import pandas as pd\n",
        "from sklearn.linear_model import LinearRegression\n",
        "import statsmodels.formula.api as smf\n",
        "processDf = pd.read_csv('Datos.csv')\n",
        "processDf.head()"
      ],
      "metadata": {
        "colab": {
          "base_uri": "https://localhost:8080/",
          "height": 261
        },
        "id": "AKiQaA4D4Npj",
        "outputId": "973c424f-1271-4725-c0a2-f8b8fc56ddd5"
      },
      "execution_count": null,
      "outputs": [
        {
          "output_type": "stream",
          "name": "stderr",
          "text": [
            "/usr/local/lib/python3.7/dist-packages/statsmodels/tools/_testing.py:19: FutureWarning: pandas.util.testing is deprecated. Use the functions in the public API at pandas.testing instead.\n",
            "  import pandas.util.testing as tm\n"
          ]
        },
        {
          "output_type": "execute_result",
          "data": {
            "text/html": [
              "<div>\n",
              "<style scoped>\n",
              "    .dataframe tbody tr th:only-of-type {\n",
              "        vertical-align: middle;\n",
              "    }\n",
              "\n",
              "    .dataframe tbody tr th {\n",
              "        vertical-align: top;\n",
              "    }\n",
              "\n",
              "    .dataframe thead th {\n",
              "        text-align: right;\n",
              "    }\n",
              "</style>\n",
              "<table border=\"1\" class=\"dataframe\">\n",
              "  <thead>\n",
              "    <tr style=\"text-align: right;\">\n",
              "      <th></th>\n",
              "      <th>ID</th>\n",
              "      <th>Total</th>\n",
              "      <th>alimentaria</th>\n",
              "      <th>bebidas_y_tabaco</th>\n",
              "      <th>insumos_textiles</th>\n",
              "      <th>productos_textiles</th>\n",
              "      <th>prendas_de_vestir</th>\n",
              "      <th>productos_de_cuero</th>\n",
              "      <th>madera</th>\n",
              "      <th>papel</th>\n",
              "      <th>industrias_conexas</th>\n",
              "      <th>Productos_Petroleo</th>\n",
              "      <th>Quimica</th>\n",
              "      <th>Plastico</th>\n",
              "      <th>Metalicos</th>\n",
              "      <th>maquinaria_y_equipo</th>\n",
              "      <th>Computacion</th>\n",
              "      <th>comunicación</th>\n",
              "      <th>Mes_año</th>\n",
              "    </tr>\n",
              "  </thead>\n",
              "  <tbody>\n",
              "    <tr>\n",
              "      <th>0</th>\n",
              "      <td>1</td>\n",
              "      <td>2.6</td>\n",
              "      <td>1.8</td>\n",
              "      <td>2.2</td>\n",
              "      <td>2.1</td>\n",
              "      <td>2.4</td>\n",
              "      <td>2.0</td>\n",
              "      <td>2.5</td>\n",
              "      <td>4.3</td>\n",
              "      <td>3.8</td>\n",
              "      <td>2.6</td>\n",
              "      <td>3.0</td>\n",
              "      <td>3.7</td>\n",
              "      <td>2.7</td>\n",
              "      <td>3.0</td>\n",
              "      <td>2.9</td>\n",
              "      <td>2.2</td>\n",
              "      <td>2.5</td>\n",
              "      <td>2019-1</td>\n",
              "    </tr>\n",
              "    <tr>\n",
              "      <th>1</th>\n",
              "      <td>2</td>\n",
              "      <td>2.6</td>\n",
              "      <td>1.9</td>\n",
              "      <td>2.3</td>\n",
              "      <td>2.2</td>\n",
              "      <td>2.2</td>\n",
              "      <td>2.1</td>\n",
              "      <td>2.5</td>\n",
              "      <td>5.1</td>\n",
              "      <td>4.2</td>\n",
              "      <td>2.7</td>\n",
              "      <td>3.1</td>\n",
              "      <td>3.8</td>\n",
              "      <td>2.7</td>\n",
              "      <td>3.2</td>\n",
              "      <td>3.0</td>\n",
              "      <td>2.3</td>\n",
              "      <td>2.6</td>\n",
              "      <td>2019-2</td>\n",
              "    </tr>\n",
              "    <tr>\n",
              "      <th>2</th>\n",
              "      <td>3</td>\n",
              "      <td>2.7</td>\n",
              "      <td>1.9</td>\n",
              "      <td>2.3</td>\n",
              "      <td>2.2</td>\n",
              "      <td>2.2</td>\n",
              "      <td>2.1</td>\n",
              "      <td>2.6</td>\n",
              "      <td>4.4</td>\n",
              "      <td>4.0</td>\n",
              "      <td>2.8</td>\n",
              "      <td>3.0</td>\n",
              "      <td>4.0</td>\n",
              "      <td>2.8</td>\n",
              "      <td>3.3</td>\n",
              "      <td>3.0</td>\n",
              "      <td>2.3</td>\n",
              "      <td>2.7</td>\n",
              "      <td>2019-3</td>\n",
              "    </tr>\n",
              "    <tr>\n",
              "      <th>3</th>\n",
              "      <td>4</td>\n",
              "      <td>2.7</td>\n",
              "      <td>1.9</td>\n",
              "      <td>2.4</td>\n",
              "      <td>2.3</td>\n",
              "      <td>2.2</td>\n",
              "      <td>2.1</td>\n",
              "      <td>2.5</td>\n",
              "      <td>4.5</td>\n",
              "      <td>4.0</td>\n",
              "      <td>2.7</td>\n",
              "      <td>3.1</td>\n",
              "      <td>3.9</td>\n",
              "      <td>2.8</td>\n",
              "      <td>3.3</td>\n",
              "      <td>3.0</td>\n",
              "      <td>2.2</td>\n",
              "      <td>2.6</td>\n",
              "      <td>2019-4</td>\n",
              "    </tr>\n",
              "    <tr>\n",
              "      <th>4</th>\n",
              "      <td>5</td>\n",
              "      <td>2.8</td>\n",
              "      <td>2.0</td>\n",
              "      <td>2.4</td>\n",
              "      <td>2.3</td>\n",
              "      <td>2.3</td>\n",
              "      <td>2.2</td>\n",
              "      <td>2.7</td>\n",
              "      <td>6.1</td>\n",
              "      <td>4.2</td>\n",
              "      <td>2.8</td>\n",
              "      <td>3.2</td>\n",
              "      <td>4.2</td>\n",
              "      <td>2.9</td>\n",
              "      <td>3.5</td>\n",
              "      <td>3.1</td>\n",
              "      <td>2.5</td>\n",
              "      <td>2.7</td>\n",
              "      <td>2019-5</td>\n",
              "    </tr>\n",
              "  </tbody>\n",
              "</table>\n",
              "</div>"
            ],
            "text/plain": [
              "   ID  Total  alimentaria  ...  Computacion  comunicación  Mes_año\n",
              "0   1    2.6          1.8  ...          2.2           2.5   2019-1\n",
              "1   2    2.6          1.9  ...          2.3           2.6   2019-2\n",
              "2   3    2.7          1.9  ...          2.3           2.7   2019-3\n",
              "3   4    2.7          1.9  ...          2.2           2.6   2019-4\n",
              "4   5    2.8          2.0  ...          2.5           2.7   2019-5\n",
              "\n",
              "[5 rows x 19 columns]"
            ]
          },
          "metadata": {},
          "execution_count": 57
        }
      ]
    },
    {
      "cell_type": "code",
      "source": [
        "fig = plt.figure(figsize=(14,14))\n",
        "plt.scatter(processDf['Mes_año'],processDf['weekly_count'])\n",
        "plt.plot(processDf['year_week'],processDf['weekly_count'])\n",
        "plt.xlabel('Number of weekly')\n",
        "plt.ylabel('Deat for year')\n",
        "plt.grid()"
      ],
      "metadata": {
        "id": "xBrYqbwy4khM"
      },
      "execution_count": null,
      "outputs": []
    },
    {
      "cell_type": "code",
      "source": [
        "%matplotlib inline\n",
        "from mpl_toolkits.mplot3d import Axes3D\n",
        "from matplotlib import cm\n",
        "plt.rcParams['figure.figsize'] = (16, 9)\n",
        "plt.style.use('ggplot')\n",
        "from sklearn import linear_model\n",
        "from sklearn.metrics import mean_squared_error, r2_score\n",
        "data = pd.read_csv(\"Datos.csv\")\n",
        "#veamos cuantas dimensiones y registros contiene\n",
        "data.shape"
      ],
      "metadata": {
        "colab": {
          "base_uri": "https://localhost:8080/"
        },
        "id": "Jktph9pJ6DGV",
        "outputId": "b7bea28a-320e-4bd5-c9f8-cded4f72a0ac"
      },
      "execution_count": null,
      "outputs": [
        {
          "output_type": "execute_result",
          "data": {
            "text/plain": [
              "(33, 19)"
            ]
          },
          "metadata": {},
          "execution_count": 28
        }
      ]
    },
    {
      "cell_type": "code",
      "source": [
        "data.head()"
      ],
      "metadata": {
        "colab": {
          "base_uri": "https://localhost:8080/",
          "height": 226
        },
        "id": "8HkehQAm6Mjb",
        "outputId": "8175c743-d95d-411b-f34e-6091b877e8d1"
      },
      "execution_count": null,
      "outputs": [
        {
          "output_type": "execute_result",
          "data": {
            "text/html": [
              "<div>\n",
              "<style scoped>\n",
              "    .dataframe tbody tr th:only-of-type {\n",
              "        vertical-align: middle;\n",
              "    }\n",
              "\n",
              "    .dataframe tbody tr th {\n",
              "        vertical-align: top;\n",
              "    }\n",
              "\n",
              "    .dataframe thead th {\n",
              "        text-align: right;\n",
              "    }\n",
              "</style>\n",
              "<table border=\"1\" class=\"dataframe\">\n",
              "  <thead>\n",
              "    <tr style=\"text-align: right;\">\n",
              "      <th></th>\n",
              "      <th>ID</th>\n",
              "      <th>Total</th>\n",
              "      <th>alimentaria</th>\n",
              "      <th>bebidas_y_tabaco</th>\n",
              "      <th>insumos_textiles</th>\n",
              "      <th>productos_textiles</th>\n",
              "      <th>prendas_de_vestir</th>\n",
              "      <th>productos_de_cuero</th>\n",
              "      <th>madera</th>\n",
              "      <th>papel</th>\n",
              "      <th>industrias_conexas</th>\n",
              "      <th>Productos_Petroleo</th>\n",
              "      <th>Quimica</th>\n",
              "      <th>Plastico</th>\n",
              "      <th>Metalicos</th>\n",
              "      <th>maquinaria_y_equipo</th>\n",
              "      <th>Computacion</th>\n",
              "      <th>comunicación</th>\n",
              "      <th>Mes_año</th>\n",
              "    </tr>\n",
              "  </thead>\n",
              "  <tbody>\n",
              "    <tr>\n",
              "      <th>0</th>\n",
              "      <td>1</td>\n",
              "      <td>2.6</td>\n",
              "      <td>1.8</td>\n",
              "      <td>2.2</td>\n",
              "      <td>2.1</td>\n",
              "      <td>2.4</td>\n",
              "      <td>2.0</td>\n",
              "      <td>2.5</td>\n",
              "      <td>4.3</td>\n",
              "      <td>3.8</td>\n",
              "      <td>2.6</td>\n",
              "      <td>3.0</td>\n",
              "      <td>3.7</td>\n",
              "      <td>2.7</td>\n",
              "      <td>3.0</td>\n",
              "      <td>2.9</td>\n",
              "      <td>2.2</td>\n",
              "      <td>2.5</td>\n",
              "      <td>2019-1</td>\n",
              "    </tr>\n",
              "    <tr>\n",
              "      <th>1</th>\n",
              "      <td>2</td>\n",
              "      <td>2.6</td>\n",
              "      <td>1.9</td>\n",
              "      <td>2.3</td>\n",
              "      <td>2.2</td>\n",
              "      <td>2.2</td>\n",
              "      <td>2.1</td>\n",
              "      <td>2.5</td>\n",
              "      <td>5.1</td>\n",
              "      <td>4.2</td>\n",
              "      <td>2.7</td>\n",
              "      <td>3.1</td>\n",
              "      <td>3.8</td>\n",
              "      <td>2.7</td>\n",
              "      <td>3.2</td>\n",
              "      <td>3.0</td>\n",
              "      <td>2.3</td>\n",
              "      <td>2.6</td>\n",
              "      <td>2019-2</td>\n",
              "    </tr>\n",
              "    <tr>\n",
              "      <th>2</th>\n",
              "      <td>3</td>\n",
              "      <td>2.7</td>\n",
              "      <td>1.9</td>\n",
              "      <td>2.3</td>\n",
              "      <td>2.2</td>\n",
              "      <td>2.2</td>\n",
              "      <td>2.1</td>\n",
              "      <td>2.6</td>\n",
              "      <td>4.4</td>\n",
              "      <td>4.0</td>\n",
              "      <td>2.8</td>\n",
              "      <td>3.0</td>\n",
              "      <td>4.0</td>\n",
              "      <td>2.8</td>\n",
              "      <td>3.3</td>\n",
              "      <td>3.0</td>\n",
              "      <td>2.3</td>\n",
              "      <td>2.7</td>\n",
              "      <td>2019-3</td>\n",
              "    </tr>\n",
              "    <tr>\n",
              "      <th>3</th>\n",
              "      <td>4</td>\n",
              "      <td>2.7</td>\n",
              "      <td>1.9</td>\n",
              "      <td>2.4</td>\n",
              "      <td>2.3</td>\n",
              "      <td>2.2</td>\n",
              "      <td>2.1</td>\n",
              "      <td>2.5</td>\n",
              "      <td>4.5</td>\n",
              "      <td>4.0</td>\n",
              "      <td>2.7</td>\n",
              "      <td>3.1</td>\n",
              "      <td>3.9</td>\n",
              "      <td>2.8</td>\n",
              "      <td>3.3</td>\n",
              "      <td>3.0</td>\n",
              "      <td>2.2</td>\n",
              "      <td>2.6</td>\n",
              "      <td>2019-4</td>\n",
              "    </tr>\n",
              "    <tr>\n",
              "      <th>4</th>\n",
              "      <td>5</td>\n",
              "      <td>2.8</td>\n",
              "      <td>2.0</td>\n",
              "      <td>2.4</td>\n",
              "      <td>2.3</td>\n",
              "      <td>2.3</td>\n",
              "      <td>2.2</td>\n",
              "      <td>2.7</td>\n",
              "      <td>6.1</td>\n",
              "      <td>4.2</td>\n",
              "      <td>2.8</td>\n",
              "      <td>3.2</td>\n",
              "      <td>4.2</td>\n",
              "      <td>2.9</td>\n",
              "      <td>3.5</td>\n",
              "      <td>3.1</td>\n",
              "      <td>2.5</td>\n",
              "      <td>2.7</td>\n",
              "      <td>2019-5</td>\n",
              "    </tr>\n",
              "  </tbody>\n",
              "</table>\n",
              "</div>"
            ],
            "text/plain": [
              "   ID  Total  alimentaria  ...  Computacion  comunicación  Mes_año\n",
              "0   1    2.6          1.8  ...          2.2           2.5   2019-1\n",
              "1   2    2.6          1.9  ...          2.3           2.6   2019-2\n",
              "2   3    2.7          1.9  ...          2.3           2.7   2019-3\n",
              "3   4    2.7          1.9  ...          2.2           2.6   2019-4\n",
              "4   5    2.8          2.0  ...          2.5           2.7   2019-5\n",
              "\n",
              "[5 rows x 19 columns]"
            ]
          },
          "metadata": {},
          "execution_count": 29
        }
      ]
    },
    {
      "cell_type": "code",
      "source": [
        "data.describe()"
      ],
      "metadata": {
        "colab": {
          "base_uri": "https://localhost:8080/",
          "height": 320
        },
        "id": "Qv8HLzN26Q1b",
        "outputId": "b3667e73-2bc6-4492-9501-a7587ef56139"
      },
      "execution_count": null,
      "outputs": [
        {
          "output_type": "execute_result",
          "data": {
            "text/html": [
              "<div>\n",
              "<style scoped>\n",
              "    .dataframe tbody tr th:only-of-type {\n",
              "        vertical-align: middle;\n",
              "    }\n",
              "\n",
              "    .dataframe tbody tr th {\n",
              "        vertical-align: top;\n",
              "    }\n",
              "\n",
              "    .dataframe thead th {\n",
              "        text-align: right;\n",
              "    }\n",
              "</style>\n",
              "<table border=\"1\" class=\"dataframe\">\n",
              "  <thead>\n",
              "    <tr style=\"text-align: right;\">\n",
              "      <th></th>\n",
              "      <th>ID</th>\n",
              "      <th>Total</th>\n",
              "      <th>alimentaria</th>\n",
              "      <th>bebidas_y_tabaco</th>\n",
              "      <th>insumos_textiles</th>\n",
              "      <th>productos_textiles</th>\n",
              "      <th>prendas_de_vestir</th>\n",
              "      <th>productos_de_cuero</th>\n",
              "      <th>madera</th>\n",
              "      <th>papel</th>\n",
              "      <th>industrias_conexas</th>\n",
              "      <th>Productos_Petroleo</th>\n",
              "      <th>Quimica</th>\n",
              "      <th>Plastico</th>\n",
              "      <th>Metalicos</th>\n",
              "      <th>maquinaria_y_equipo</th>\n",
              "      <th>Computacion</th>\n",
              "      <th>comunicación</th>\n",
              "    </tr>\n",
              "  </thead>\n",
              "  <tbody>\n",
              "    <tr>\n",
              "      <th>count</th>\n",
              "      <td>33.00000</td>\n",
              "      <td>33.000000</td>\n",
              "      <td>33.000000</td>\n",
              "      <td>33.000000</td>\n",
              "      <td>33.000000</td>\n",
              "      <td>33.000000</td>\n",
              "      <td>33.000000</td>\n",
              "      <td>33.000000</td>\n",
              "      <td>33.000000</td>\n",
              "      <td>33.000000</td>\n",
              "      <td>33.000000</td>\n",
              "      <td>33.000000</td>\n",
              "      <td>33.000000</td>\n",
              "      <td>33.000000</td>\n",
              "      <td>33.000000</td>\n",
              "      <td>33.000000</td>\n",
              "      <td>33.000000</td>\n",
              "      <td>33.000000</td>\n",
              "    </tr>\n",
              "    <tr>\n",
              "      <th>mean</th>\n",
              "      <td>17.00000</td>\n",
              "      <td>2.745455</td>\n",
              "      <td>1.890909</td>\n",
              "      <td>2.327273</td>\n",
              "      <td>2.400000</td>\n",
              "      <td>2.269697</td>\n",
              "      <td>2.509091</td>\n",
              "      <td>2.621212</td>\n",
              "      <td>4.887879</td>\n",
              "      <td>4.000000</td>\n",
              "      <td>2.857576</td>\n",
              "      <td>3.163636</td>\n",
              "      <td>4.366667</td>\n",
              "      <td>2.921212</td>\n",
              "      <td>3.390909</td>\n",
              "      <td>3.230303</td>\n",
              "      <td>2.378788</td>\n",
              "      <td>2.730303</td>\n",
              "    </tr>\n",
              "    <tr>\n",
              "      <th>std</th>\n",
              "      <td>9.66954</td>\n",
              "      <td>0.282943</td>\n",
              "      <td>0.224114</td>\n",
              "      <td>0.334732</td>\n",
              "      <td>0.555653</td>\n",
              "      <td>0.255545</td>\n",
              "      <td>1.176691</td>\n",
              "      <td>0.261913</td>\n",
              "      <td>1.910785</td>\n",
              "      <td>0.607762</td>\n",
              "      <td>0.310272</td>\n",
              "      <td>0.279305</td>\n",
              "      <td>0.530723</td>\n",
              "      <td>0.300788</td>\n",
              "      <td>0.358263</td>\n",
              "      <td>0.769937</td>\n",
              "      <td>0.259516</td>\n",
              "      <td>0.347747</td>\n",
              "    </tr>\n",
              "    <tr>\n",
              "      <th>min</th>\n",
              "      <td>1.00000</td>\n",
              "      <td>2.400000</td>\n",
              "      <td>1.600000</td>\n",
              "      <td>1.900000</td>\n",
              "      <td>2.000000</td>\n",
              "      <td>1.900000</td>\n",
              "      <td>2.000000</td>\n",
              "      <td>2.300000</td>\n",
              "      <td>3.600000</td>\n",
              "      <td>3.300000</td>\n",
              "      <td>2.500000</td>\n",
              "      <td>2.800000</td>\n",
              "      <td>3.700000</td>\n",
              "      <td>2.500000</td>\n",
              "      <td>3.000000</td>\n",
              "      <td>2.600000</td>\n",
              "      <td>2.000000</td>\n",
              "      <td>2.400000</td>\n",
              "    </tr>\n",
              "    <tr>\n",
              "      <th>25%</th>\n",
              "      <td>9.00000</td>\n",
              "      <td>2.600000</td>\n",
              "      <td>1.800000</td>\n",
              "      <td>2.200000</td>\n",
              "      <td>2.100000</td>\n",
              "      <td>2.100000</td>\n",
              "      <td>2.000000</td>\n",
              "      <td>2.500000</td>\n",
              "      <td>4.000000</td>\n",
              "      <td>3.700000</td>\n",
              "      <td>2.700000</td>\n",
              "      <td>3.000000</td>\n",
              "      <td>3.900000</td>\n",
              "      <td>2.700000</td>\n",
              "      <td>3.200000</td>\n",
              "      <td>2.900000</td>\n",
              "      <td>2.200000</td>\n",
              "      <td>2.500000</td>\n",
              "    </tr>\n",
              "    <tr>\n",
              "      <th>50%</th>\n",
              "      <td>17.00000</td>\n",
              "      <td>2.700000</td>\n",
              "      <td>1.900000</td>\n",
              "      <td>2.300000</td>\n",
              "      <td>2.200000</td>\n",
              "      <td>2.200000</td>\n",
              "      <td>2.200000</td>\n",
              "      <td>2.600000</td>\n",
              "      <td>4.400000</td>\n",
              "      <td>3.900000</td>\n",
              "      <td>2.800000</td>\n",
              "      <td>3.100000</td>\n",
              "      <td>4.200000</td>\n",
              "      <td>2.800000</td>\n",
              "      <td>3.300000</td>\n",
              "      <td>3.100000</td>\n",
              "      <td>2.300000</td>\n",
              "      <td>2.600000</td>\n",
              "    </tr>\n",
              "    <tr>\n",
              "      <th>75%</th>\n",
              "      <td>25.00000</td>\n",
              "      <td>2.800000</td>\n",
              "      <td>2.000000</td>\n",
              "      <td>2.400000</td>\n",
              "      <td>2.300000</td>\n",
              "      <td>2.400000</td>\n",
              "      <td>2.300000</td>\n",
              "      <td>2.700000</td>\n",
              "      <td>4.800000</td>\n",
              "      <td>4.100000</td>\n",
              "      <td>3.000000</td>\n",
              "      <td>3.300000</td>\n",
              "      <td>4.900000</td>\n",
              "      <td>3.000000</td>\n",
              "      <td>3.500000</td>\n",
              "      <td>3.200000</td>\n",
              "      <td>2.500000</td>\n",
              "      <td>2.900000</td>\n",
              "    </tr>\n",
              "    <tr>\n",
              "      <th>max</th>\n",
              "      <td>33.00000</td>\n",
              "      <td>3.700000</td>\n",
              "      <td>2.600000</td>\n",
              "      <td>3.700000</td>\n",
              "      <td>4.200000</td>\n",
              "      <td>3.100000</td>\n",
              "      <td>7.500000</td>\n",
              "      <td>3.400000</td>\n",
              "      <td>12.100000</td>\n",
              "      <td>6.200000</td>\n",
              "      <td>3.900000</td>\n",
              "      <td>4.100000</td>\n",
              "      <td>5.600000</td>\n",
              "      <td>3.900000</td>\n",
              "      <td>4.600000</td>\n",
              "      <td>6.900000</td>\n",
              "      <td>3.200000</td>\n",
              "      <td>4.000000</td>\n",
              "    </tr>\n",
              "  </tbody>\n",
              "</table>\n",
              "</div>"
            ],
            "text/plain": [
              "             ID      Total  ...  Computacion  comunicación\n",
              "count  33.00000  33.000000  ...    33.000000     33.000000\n",
              "mean   17.00000   2.745455  ...     2.378788      2.730303\n",
              "std     9.66954   0.282943  ...     0.259516      0.347747\n",
              "min     1.00000   2.400000  ...     2.000000      2.400000\n",
              "25%     9.00000   2.600000  ...     2.200000      2.500000\n",
              "50%    17.00000   2.700000  ...     2.300000      2.600000\n",
              "75%    25.00000   2.800000  ...     2.500000      2.900000\n",
              "max    33.00000   3.700000  ...     3.200000      4.000000\n",
              "\n",
              "[8 rows x 18 columns]"
            ]
          },
          "metadata": {},
          "execution_count": 30
        }
      ]
    },
    {
      "cell_type": "code",
      "source": [
        "from matplotlib import pyplot             # Permite la generación de gráficos\n",
        "from mpl_toolkits.mplot3d import Axes3D   # Permite agregar eje tridimensionales\n",
        "import random \n",
        "fig = pyplot.figure(figsize=(8, 6))       # Ajustes del gráfico\n",
        "ax = Axes3D(fig)\n",
        "\n",
        "Total = processDf [\"Total\"]                             # Datos eje X\n",
        "ID = processDf [\"ID\"]                            # Datos eje Y\n",
        "madera = processDf[\"madera\"]                               # Datos eje Z (Var. Respuesta)\n",
        "\n",
        "ax.scatter(Total, ID, madera, marker='*', c='r')\n",
        "ax.set_xlabel('Total')        # Etiqueta del eje X\n",
        "ax.set_ylabel('ID')       # Etiqueta del eje Y\n",
        "ax.set_zlabel('madera');        # Etiqueta del eje Z (Var. Respuesta) "
      ],
      "metadata": {
        "colab": {
          "base_uri": "https://localhost:8080/",
          "height": 463
        },
        "id": "91jMO_OP8L3E",
        "outputId": "efafbe48-3b36-4e2b-c9b3-11c262fcf590"
      },
      "execution_count": null,
      "outputs": [
        {
          "output_type": "display_data",
          "data": {
            "image/png": "[encoded data removed]",
            "text/plain": [
              "<Figure size 576x432 with 1 Axes>"
            ]
          },
          "metadata": {}
        }
      ]
    },
    {
      "cell_type": "code",
      "source": [
        "mod = smf.ols('madera ~ Total + ID', data=processDf).fit()"
      ],
      "metadata": {
        "id": "1YshKUchAQO5"
      },
      "execution_count": null,
      "outputs": []
    },
    {
      "cell_type": "code",
      "source": [
        "print(mod.summary())"
      ],
      "metadata": {
        "colab": {
          "base_uri": "https://localhost:8080/"
        },
        "id": "IWwWNRzCBGAt",
        "outputId": "e138a785-367e-488d-e388-a8901b48dfe2"
      },
      "execution_count": null,
      "outputs": [
        {
          "output_type": "stream",
          "name": "stdout",
          "text": [
            "                            OLS Regression Results                            \n",
            "==============================================================================\n",
            "Dep. Variable:                 madera   R-squared:                       0.760\n",
            "Model:                            OLS   Adj. R-squared:                  0.744\n",
            "Method:                 Least Squares   F-statistic:                     47.54\n",
            "Date:                Wed, 08 Dec 2021   Prob (F-statistic):           5.00e-10\n",
            "Time:                        03:09:23   Log-Likelihood:                -44.127\n",
            "No. Observations:                  33   AIC:                             94.25\n",
            "Df Residuals:                      30   BIC:                             98.74\n",
            "Df Model:                           2                                         \n",
            "Covariance Type:            nonrobust                                         \n",
            "==============================================================================\n",
            "                 coef    std err          t      P>|t|      [0.025      0.975]\n",
            "------------------------------------------------------------------------------\n",
            "Intercept    -10.8902      1.668     -6.529      0.000     -14.296      -7.484\n",
            "Total          6.0361      0.620      9.743      0.000       4.771       7.301\n",
            "ID            -0.0467      0.018     -2.576      0.015      -0.084      -0.010\n",
            "==============================================================================\n",
            "Omnibus:                        4.385   Durbin-Watson:                   2.120\n",
            "Prob(Omnibus):                  0.112   Jarque-Bera (JB):                3.109\n",
            "Skew:                          -0.439   Prob(JB):                        0.211\n",
            "Kurtosis:                       4.220   Cond. No.                         207.\n",
            "==============================================================================\n",
            "\n",
            "Warnings:\n",
            "[1] Standard Errors assume that the covariance matrix of the errors is correctly specified.\n"
          ]
        }
      ]
    },
    {
      "cell_type": "code",
      "source": [
        "mod.params"
      ],
      "metadata": {
        "colab": {
          "base_uri": "https://localhost:8080/"
        },
        "id": "dh8R8NlaBKqT",
        "outputId": "b059131b-4050-4a39-9197-c3e58d78259f"
      },
      "execution_count": null,
      "outputs": [
        {
          "output_type": "execute_result",
          "data": {
            "text/plain": [
              "Intercept   -10.890153\n",
              "Total         6.036095\n",
              "ID           -0.046694\n",
              "dtype: float64"
            ]
          },
          "metadata": {},
          "execution_count": 63
        }
      ]
    },
    {
      "cell_type": "code",
      "source": [
        "mod.mse_resid"
      ],
      "metadata": {
        "colab": {
          "base_uri": "https://localhost:8080/"
        },
        "id": "wBe0601jBORn",
        "outputId": "70df4ca1-5767-449e-c69e-748ae0419cbb"
      },
      "execution_count": null,
      "outputs": [
        {
          "output_type": "execute_result",
          "data": {
            "text/plain": [
              "0.9340566798631292"
            ]
          },
          "metadata": {},
          "execution_count": 64
        }
      ]
    },
    {
      "cell_type": "code",
      "source": [
        "data.drop(['Total','Mes_año', 'ID'],1).hist()\n",
        "plt.show()"
      ],
      "metadata": {
        "colab": {
          "base_uri": "https://localhost:8080/",
          "height": 554
        },
        "id": "U0dI0_k3CJQj",
        "outputId": "54b92dea-3ffa-4a70-fc64-485422d59db5"
      },
      "execution_count": null,
      "outputs": [
        {
          "output_type": "display_data",
          "data": {
            "image/png": "[encoded data removed]",
            "text/plain": [
              "<Figure size 1152x648 with 16 Axes>"
            ]
          },
          "metadata": {}
        }
      ]
    },
    {
      "cell_type": "code",
      "source": [
        ""
      ],
      "metadata": {
        "id": "aeqLwNIGCSy8"
      },
      "execution_count": null,
      "outputs": []
    }
  ]
}